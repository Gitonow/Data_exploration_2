{
 "cells": [
  {
   "cell_type": "code",
   "execution_count": 4,
   "metadata": {},
   "outputs": [],
   "source": [
    "import sys\n",
    "import os\n",
    "import inspect\n",
    "import glob\n",
    "import numpy as np\n",
    "from time import sleep #prevents exceeding data rate limit\n",
    "from IPython.display import clear_output\n",
    "\n",
    "def read_stimuli(path):\n",
    "    # This function reads the different stimuli that a neuron has been tested with\n",
    "    # path: folder where the different stimuli are located\n",
    "    arraySpikes = []\n",
    "    listFiles = os.listdir(path) # dir is your directory path\n",
    "    number_files = len(listFiles)\n",
    "    \n",
    "    print(path) # print the folder being read\n",
    "    \n",
    "    for i in range(int(number_files/2)):\n",
    "        # for each stimuli, read the list of spikes and the file name where it is located\n",
    "        pathSpike = path + \"/spike\" + str(i+1)\n",
    "        pathStim = path + \"/stim\" + str(i+1)\n",
    "        listOfSpikes = []\n",
    "        with open(pathSpike, \"rt\") as fp:\n",
    "            # read the array of spikes\n",
    "            listOfSpikes = ([np.fromstring(line, sep=\" \") for line in fp])\n",
    "        with open(pathStim) as f:\n",
    "            # read the file name\n",
    "            nameStim = f.readline()\n",
    "        arraySpikes.append({\"filename\": nameStim, \"seriesSpikes\": listOfSpikes})\n",
    "    return arraySpikes\n",
    "\n",
    "def read_area(path):\n",
    "# This function reads the different neurons of different areas in the brain\n",
    "# path: folder where the different areas are located\n",
    "    arrayNeur = []\n",
    "    for neuronName in os.listdir(path):\n",
    "        # for each neuron in the folder\n",
    "        arrayFolder = glob.glob(path+\"/\"+neuronName+\"/\"+\"*\")\n",
    "        listTypes = []\n",
    "        for folder in arrayFolder:\n",
    "            # get the list of the types of stimuli that the neuron was tested with\n",
    "            listTypes.append(folder[len(path+\"/\"+neuronName+\"/\"):])\n",
    "        arrayStimuli = []\n",
    "        for t in listTypes:\n",
    "            # for each type in the list, read the spikes generated and the stimuli tested\n",
    "            arraySpikes = read_stimuli(path+\"/\"+neuronName+\"/\"+t)\n",
    "            arrayStimuli.append({\"type\": t, \"spikes\": arraySpikes})\n",
    "        arrayNeur.append({\"name\": neuronName, \"stimuli\": arrayStimuli})\n",
    "    return arrayNeur"
   ]
  },
  {
   "cell_type": "code",
   "execution_count": 8,
   "metadata": {},
   "outputs": [
    {
     "name": "stdout",
     "output_type": "stream",
     "text": [
      "Loading of the data done!\n"
     ]
    }
   ],
   "source": [
    "listAreas = [\"Field_L_cells\",\"MLd_cells\"] # list of areas to get the data from\n",
    "\n",
    "currentDir = os.getcwd().replace(\"/src\",\"\")+\"/data/crcns-aa1\" # find the folder where the data is located\n",
    "\n",
    "arrayAreas = []\n",
    "for area in listAreas:\n",
    "    # read each folder of each area\n",
    "    arrayNeurons = read_area(currentDir + \"/\" + area)\n",
    "    arrayAreas.append({\"name\": area, \"neurons\": arrayNeurons})\n",
    "\n",
    "sleep(1.5) # keep output for some time    \n",
    "clear_output()\n",
    "print(\"Loading of the data done!\")"
   ]
  },
  {
   "cell_type": "code",
   "execution_count": null,
   "metadata": {},
   "outputs": [],
   "source": []
  }
 ],
 "metadata": {
  "kernelspec": {
   "display_name": "Python 3",
   "language": "python",
   "name": "python3"
  },
  "language_info": {
   "codemirror_mode": {
    "name": "ipython",
    "version": 3
   },
   "file_extension": ".py",
   "mimetype": "text/x-python",
   "name": "python",
   "nbconvert_exporter": "python",
   "pygments_lexer": "ipython3",
   "version": "3.7.0"
  }
 },
 "nbformat": 4,
 "nbformat_minor": 2
}
